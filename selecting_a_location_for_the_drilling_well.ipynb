{
 "cells": [
  {
   "cell_type": "markdown",
   "metadata": {},
   "source": [
    "# Выбор локации для скважины"
   ]
  },
  {
   "cell_type": "markdown",
   "metadata": {},
   "source": [
    "Допустим, вы работаете в добывающей компании «ГлавРосГосНефть». Нужно решить, где бурить новую скважину.\n",
    "\n",
    "Вам предоставлены пробы нефти в трёх регионах: в каждом 10 000 месторождений, где измерили качество нефти и объём её запасов. Постройте модель машинного обучения, которая поможет определить регион, где добыча принесёт наибольшую прибыль. Проанализируйте возможную прибыль и риски техникой *Bootstrap.*\n",
    "\n",
    "Шаги для выбора локации:\n",
    "\n",
    "- В избранном регионе ищут месторождения, для каждого определяют значения признаков;\n",
    "- Строят модель и оценивают объём запасов;\n",
    "- Выбирают месторождения с самым высокими оценками значений. Количество месторождений зависит от бюджета компании и стоимости разработки одной скважины;\n",
    "- Прибыль равна суммарной прибыли отобранных месторождений."
   ]
  },
  {
   "cell_type": "markdown",
   "metadata": {},
   "source": [
    "**Описание проекта:** предоставлены пробы нефти в трёх регионах: в каждом 10 000 месторождений, где измерили качество нефти и объём её запасов. Постройте модель машинного обучения, которая поможет определить регион, где добыча принесёт наибольшую прибыль. Проанализируйте возможную прибыль и риски техникой Bootstrap.\n",
    "\n",
    "**Цель исследования:** Необходимо решить где бурить новую скважину.\n",
    "\n",
    "**Ход исследования:**\n",
    "\n",
    "- В избранном регионе ищут месторождения, для каждого определяют значения признаков;\n",
    "- Строят модель и оценивают объём запасов;\n",
    "- Выбирают месторождения с самым высокими оценками значений. Количество месторождений зависит от бюджета компании и стоимости разработки одной скважины;\n",
    "- Прибыль равна суммарной прибыли отобранных месторождений.\n",
    "\n",
    "**Общий вывод:** резюмирование полуенных результатов, формулировка ключевых выводов и результатов."
   ]
  },
  {
   "cell_type": "code",
   "execution_count": 1,
   "metadata": {},
   "outputs": [],
   "source": [
    "import pandas as pd\n",
    "import numpy as np\n",
    "import matplotlib.pyplot as plt \n",
    "import itertools\n",
    "from sklearn.model_selection import train_test_split\n",
    "from sklearn.linear_model import LinearRegression\n",
    "from sklearn.pipeline import make_pipeline\n",
    "from sklearn.preprocessing import StandardScaler\n",
    "from sklearn.metrics import mean_squared_error\n",
    "from numpy.random import RandomState\n",
    "from tqdm import tqdm\n",
    "\n",
    "RANDOM = 42\n",
    "state = RandomState(RANDOM) "
   ]
  },
  {
   "cell_type": "code",
   "execution_count": 2,
   "metadata": {},
   "outputs": [],
   "source": [
    "# Функция получения общей информации о датасете, о дубликатах и пропусках.\n",
    "def information(df):\n",
    "    display(df.head())\n",
    "    df.info();\n",
    "    print('\\nКоличество дубликатов:',df.duplicated().sum(),'\\n')\n",
    "    print('Количество пропусков:\\n',df.isna().sum())"
   ]
  },
  {
   "cell_type": "code",
   "execution_count": 3,
   "metadata": {},
   "outputs": [],
   "source": [
    "# Функция создает для списка столбцов два графика - гистограмму и ящик с усами.\n",
    "def todoplot(df):\n",
    "    for i in col:\n",
    "        fig, (ax1, ax2) = plt.subplots(1, 2, figsize=(15,5))\n",
    "        ax1.hist(df[i], bins=10);\n",
    "        ax1.set_title(i)\n",
    "        ax1.set_xlabel('Значения')\n",
    "        ax1.set_ylabel('Частота')\n",
    "        ax2.boxplot(df[i]);\n",
    "        ax2.set_title(i)\n",
    "        plt.show()"
   ]
  },
  {
   "cell_type": "code",
   "execution_count": 4,
   "metadata": {},
   "outputs": [],
   "source": [
    "# Функция удаляет вбросы.\n",
    "def remove_ouliers(frame,column):\n",
    "    q25=np.array(frame[column].quantile(0.25))\n",
    "    \n",
    "    q75=np.array(frame[column].quantile(0.75))\n",
    "    first_part=q25-1.5*(q75-q25)\n",
    "    second_part=q75+1.5*(q75-q25)\n",
    "    del_index = []\n",
    "    for index_value, value in zip(frame[column].index,frame[column]):\n",
    "        if second_part <= value or value <= first_part:\n",
    "            del_index.append(index_value)\n",
    "    \n",
    "    print('Количество строк, выбранных для удаления: ',len(del_index))\n",
    "    return del_index"
   ]
  },
  {
   "cell_type": "code",
   "execution_count": 5,
   "metadata": {},
   "outputs": [],
   "source": [
    "#Функция для прибыли по выбранным скважинам.\n",
    "def income(true_target, pred_target):\n",
    "    sort_Series = pd.Series(pred_target).sort_values(ascending=False)[:FINAL_MAX_POINTS]\n",
    "    true_target_sort = (true_target\n",
    "                         .reset_index(drop = True)[sort_Series.index])\n",
    "    sum_true = true_target_sort.sum() \n",
    "    return round((sum_true * PRICE_PER_BARREL) - BUDGET_PER_REGION,2)"
   ]
  },
  {
   "cell_type": "code",
   "execution_count": 6,
   "metadata": {},
   "outputs": [],
   "source": [
    "# Функция для расчета риска.\n",
    "def confidence_interval(true_target,pred_target):\n",
    "    samples = []\n",
    "    for i in tqdm(range(1000)):\n",
    "        sample = pd.Series(pred_target).sample(n = PRE_MAX_POINTS, replace=True, random_state=state)\n",
    "        samples.append(income(true_target,sample))\n",
    "    samples = pd.Series(samples)\n",
    "    print(samples.mean())\n",
    "    print(samples.apply(lambda x: x < 0).sum()/len(samples)*100,\"%\")\n",
    "    \n",
    "    lower = samples.quantile(0.025)\n",
    "    upper = samples.quantile(0.975)\n",
    "    return round(lower,2), round(upper,2)"
   ]
  },
  {
   "cell_type": "markdown",
   "metadata": {},
   "source": [
    "## Загрузка и подготовка данных"
   ]
  },
  {
   "cell_type": "markdown",
   "metadata": {},
   "source": [
    "### Загрузим данные"
   ]
  },
  {
   "cell_type": "code",
   "execution_count": 7,
   "metadata": {},
   "outputs": [],
   "source": [
    "data_0 = pd.read_csv('/datasets/geo_data_0.csv')\n",
    "data_1 = pd.read_csv('/datasets/geo_data_1.csv')\n",
    "data_2 = pd.read_csv('/datasets/geo_data_2.csv')"
   ]
  },
  {
   "cell_type": "markdown",
   "metadata": {},
   "source": [
    "### Подготовим данные"
   ]
  },
  {
   "cell_type": "markdown",
   "metadata": {},
   "source": [
    "#### Проверим данные на пропуски и дубликатов"
   ]
  },
  {
   "cell_type": "code",
   "execution_count": 8,
   "metadata": {
    "scrolled": true
   },
   "outputs": [
    {
     "data": {
      "text/html": [
       "<div>\n",
       "<style scoped>\n",
       "    .dataframe tbody tr th:only-of-type {\n",
       "        vertical-align: middle;\n",
       "    }\n",
       "\n",
       "    .dataframe tbody tr th {\n",
       "        vertical-align: top;\n",
       "    }\n",
       "\n",
       "    .dataframe thead th {\n",
       "        text-align: right;\n",
       "    }\n",
       "</style>\n",
       "<table border=\"1\" class=\"dataframe\">\n",
       "  <thead>\n",
       "    <tr style=\"text-align: right;\">\n",
       "      <th></th>\n",
       "      <th>id</th>\n",
       "      <th>f0</th>\n",
       "      <th>f1</th>\n",
       "      <th>f2</th>\n",
       "      <th>product</th>\n",
       "    </tr>\n",
       "  </thead>\n",
       "  <tbody>\n",
       "    <tr>\n",
       "      <th>0</th>\n",
       "      <td>txEyH</td>\n",
       "      <td>0.705745</td>\n",
       "      <td>-0.497823</td>\n",
       "      <td>1.221170</td>\n",
       "      <td>105.280062</td>\n",
       "    </tr>\n",
       "    <tr>\n",
       "      <th>1</th>\n",
       "      <td>2acmU</td>\n",
       "      <td>1.334711</td>\n",
       "      <td>-0.340164</td>\n",
       "      <td>4.365080</td>\n",
       "      <td>73.037750</td>\n",
       "    </tr>\n",
       "    <tr>\n",
       "      <th>2</th>\n",
       "      <td>409Wp</td>\n",
       "      <td>1.022732</td>\n",
       "      <td>0.151990</td>\n",
       "      <td>1.419926</td>\n",
       "      <td>85.265647</td>\n",
       "    </tr>\n",
       "    <tr>\n",
       "      <th>3</th>\n",
       "      <td>iJLyR</td>\n",
       "      <td>-0.032172</td>\n",
       "      <td>0.139033</td>\n",
       "      <td>2.978566</td>\n",
       "      <td>168.620776</td>\n",
       "    </tr>\n",
       "    <tr>\n",
       "      <th>4</th>\n",
       "      <td>Xdl7t</td>\n",
       "      <td>1.988431</td>\n",
       "      <td>0.155413</td>\n",
       "      <td>4.751769</td>\n",
       "      <td>154.036647</td>\n",
       "    </tr>\n",
       "  </tbody>\n",
       "</table>\n",
       "</div>"
      ],
      "text/plain": [
       "      id        f0        f1        f2     product\n",
       "0  txEyH  0.705745 -0.497823  1.221170  105.280062\n",
       "1  2acmU  1.334711 -0.340164  4.365080   73.037750\n",
       "2  409Wp  1.022732  0.151990  1.419926   85.265647\n",
       "3  iJLyR -0.032172  0.139033  2.978566  168.620776\n",
       "4  Xdl7t  1.988431  0.155413  4.751769  154.036647"
      ]
     },
     "metadata": {},
     "output_type": "display_data"
    },
    {
     "name": "stdout",
     "output_type": "stream",
     "text": [
      "<class 'pandas.core.frame.DataFrame'>\n",
      "RangeIndex: 100000 entries, 0 to 99999\n",
      "Data columns (total 5 columns):\n",
      " #   Column   Non-Null Count   Dtype  \n",
      "---  ------   --------------   -----  \n",
      " 0   id       100000 non-null  object \n",
      " 1   f0       100000 non-null  float64\n",
      " 2   f1       100000 non-null  float64\n",
      " 3   f2       100000 non-null  float64\n",
      " 4   product  100000 non-null  float64\n",
      "dtypes: float64(4), object(1)\n",
      "memory usage: 3.8+ MB\n",
      "\n",
      "Количество дубликатов: 0 \n",
      "\n",
      "Количество пропусков:\n",
      " id         0\n",
      "f0         0\n",
      "f1         0\n",
      "f2         0\n",
      "product    0\n",
      "dtype: int64\n"
     ]
    }
   ],
   "source": [
    "information(data_0)"
   ]
  },
  {
   "cell_type": "code",
   "execution_count": 9,
   "metadata": {
    "scrolled": true
   },
   "outputs": [
    {
     "data": {
      "text/html": [
       "<div>\n",
       "<style scoped>\n",
       "    .dataframe tbody tr th:only-of-type {\n",
       "        vertical-align: middle;\n",
       "    }\n",
       "\n",
       "    .dataframe tbody tr th {\n",
       "        vertical-align: top;\n",
       "    }\n",
       "\n",
       "    .dataframe thead th {\n",
       "        text-align: right;\n",
       "    }\n",
       "</style>\n",
       "<table border=\"1\" class=\"dataframe\">\n",
       "  <thead>\n",
       "    <tr style=\"text-align: right;\">\n",
       "      <th></th>\n",
       "      <th>id</th>\n",
       "      <th>f0</th>\n",
       "      <th>f1</th>\n",
       "      <th>f2</th>\n",
       "      <th>product</th>\n",
       "    </tr>\n",
       "  </thead>\n",
       "  <tbody>\n",
       "    <tr>\n",
       "      <th>0</th>\n",
       "      <td>kBEdx</td>\n",
       "      <td>-15.001348</td>\n",
       "      <td>-8.276000</td>\n",
       "      <td>-0.005876</td>\n",
       "      <td>3.179103</td>\n",
       "    </tr>\n",
       "    <tr>\n",
       "      <th>1</th>\n",
       "      <td>62mP7</td>\n",
       "      <td>14.272088</td>\n",
       "      <td>-3.475083</td>\n",
       "      <td>0.999183</td>\n",
       "      <td>26.953261</td>\n",
       "    </tr>\n",
       "    <tr>\n",
       "      <th>2</th>\n",
       "      <td>vyE1P</td>\n",
       "      <td>6.263187</td>\n",
       "      <td>-5.948386</td>\n",
       "      <td>5.001160</td>\n",
       "      <td>134.766305</td>\n",
       "    </tr>\n",
       "    <tr>\n",
       "      <th>3</th>\n",
       "      <td>KcrkZ</td>\n",
       "      <td>-13.081196</td>\n",
       "      <td>-11.506057</td>\n",
       "      <td>4.999415</td>\n",
       "      <td>137.945408</td>\n",
       "    </tr>\n",
       "    <tr>\n",
       "      <th>4</th>\n",
       "      <td>AHL4O</td>\n",
       "      <td>12.702195</td>\n",
       "      <td>-8.147433</td>\n",
       "      <td>5.004363</td>\n",
       "      <td>134.766305</td>\n",
       "    </tr>\n",
       "  </tbody>\n",
       "</table>\n",
       "</div>"
      ],
      "text/plain": [
       "      id         f0         f1        f2     product\n",
       "0  kBEdx -15.001348  -8.276000 -0.005876    3.179103\n",
       "1  62mP7  14.272088  -3.475083  0.999183   26.953261\n",
       "2  vyE1P   6.263187  -5.948386  5.001160  134.766305\n",
       "3  KcrkZ -13.081196 -11.506057  4.999415  137.945408\n",
       "4  AHL4O  12.702195  -8.147433  5.004363  134.766305"
      ]
     },
     "metadata": {},
     "output_type": "display_data"
    },
    {
     "name": "stdout",
     "output_type": "stream",
     "text": [
      "<class 'pandas.core.frame.DataFrame'>\n",
      "RangeIndex: 100000 entries, 0 to 99999\n",
      "Data columns (total 5 columns):\n",
      " #   Column   Non-Null Count   Dtype  \n",
      "---  ------   --------------   -----  \n",
      " 0   id       100000 non-null  object \n",
      " 1   f0       100000 non-null  float64\n",
      " 2   f1       100000 non-null  float64\n",
      " 3   f2       100000 non-null  float64\n",
      " 4   product  100000 non-null  float64\n",
      "dtypes: float64(4), object(1)\n",
      "memory usage: 3.8+ MB\n",
      "\n",
      "Количество дубликатов: 0 \n",
      "\n",
      "Количество пропусков:\n",
      " id         0\n",
      "f0         0\n",
      "f1         0\n",
      "f2         0\n",
      "product    0\n",
      "dtype: int64\n"
     ]
    }
   ],
   "source": [
    "information(data_1)"
   ]
  },
  {
   "cell_type": "code",
   "execution_count": 10,
   "metadata": {
    "scrolled": true
   },
   "outputs": [
    {
     "data": {
      "text/html": [
       "<div>\n",
       "<style scoped>\n",
       "    .dataframe tbody tr th:only-of-type {\n",
       "        vertical-align: middle;\n",
       "    }\n",
       "\n",
       "    .dataframe tbody tr th {\n",
       "        vertical-align: top;\n",
       "    }\n",
       "\n",
       "    .dataframe thead th {\n",
       "        text-align: right;\n",
       "    }\n",
       "</style>\n",
       "<table border=\"1\" class=\"dataframe\">\n",
       "  <thead>\n",
       "    <tr style=\"text-align: right;\">\n",
       "      <th></th>\n",
       "      <th>id</th>\n",
       "      <th>f0</th>\n",
       "      <th>f1</th>\n",
       "      <th>f2</th>\n",
       "      <th>product</th>\n",
       "    </tr>\n",
       "  </thead>\n",
       "  <tbody>\n",
       "    <tr>\n",
       "      <th>0</th>\n",
       "      <td>fwXo0</td>\n",
       "      <td>-1.146987</td>\n",
       "      <td>0.963328</td>\n",
       "      <td>-0.828965</td>\n",
       "      <td>27.758673</td>\n",
       "    </tr>\n",
       "    <tr>\n",
       "      <th>1</th>\n",
       "      <td>WJtFt</td>\n",
       "      <td>0.262778</td>\n",
       "      <td>0.269839</td>\n",
       "      <td>-2.530187</td>\n",
       "      <td>56.069697</td>\n",
       "    </tr>\n",
       "    <tr>\n",
       "      <th>2</th>\n",
       "      <td>ovLUW</td>\n",
       "      <td>0.194587</td>\n",
       "      <td>0.289035</td>\n",
       "      <td>-5.586433</td>\n",
       "      <td>62.871910</td>\n",
       "    </tr>\n",
       "    <tr>\n",
       "      <th>3</th>\n",
       "      <td>q6cA6</td>\n",
       "      <td>2.236060</td>\n",
       "      <td>-0.553760</td>\n",
       "      <td>0.930038</td>\n",
       "      <td>114.572842</td>\n",
       "    </tr>\n",
       "    <tr>\n",
       "      <th>4</th>\n",
       "      <td>WPMUX</td>\n",
       "      <td>-0.515993</td>\n",
       "      <td>1.716266</td>\n",
       "      <td>5.899011</td>\n",
       "      <td>149.600746</td>\n",
       "    </tr>\n",
       "  </tbody>\n",
       "</table>\n",
       "</div>"
      ],
      "text/plain": [
       "      id        f0        f1        f2     product\n",
       "0  fwXo0 -1.146987  0.963328 -0.828965   27.758673\n",
       "1  WJtFt  0.262778  0.269839 -2.530187   56.069697\n",
       "2  ovLUW  0.194587  0.289035 -5.586433   62.871910\n",
       "3  q6cA6  2.236060 -0.553760  0.930038  114.572842\n",
       "4  WPMUX -0.515993  1.716266  5.899011  149.600746"
      ]
     },
     "metadata": {},
     "output_type": "display_data"
    },
    {
     "name": "stdout",
     "output_type": "stream",
     "text": [
      "<class 'pandas.core.frame.DataFrame'>\n",
      "RangeIndex: 100000 entries, 0 to 99999\n",
      "Data columns (total 5 columns):\n",
      " #   Column   Non-Null Count   Dtype  \n",
      "---  ------   --------------   -----  \n",
      " 0   id       100000 non-null  object \n",
      " 1   f0       100000 non-null  float64\n",
      " 2   f1       100000 non-null  float64\n",
      " 3   f2       100000 non-null  float64\n",
      " 4   product  100000 non-null  float64\n",
      "dtypes: float64(4), object(1)\n",
      "memory usage: 3.8+ MB\n",
      "\n",
      "Количество дубликатов: 0 \n",
      "\n",
      "Количество пропусков:\n",
      " id         0\n",
      "f0         0\n",
      "f1         0\n",
      "f2         0\n",
      "product    0\n",
      "dtype: int64\n"
     ]
    }
   ],
   "source": [
    "information(data_2)"
   ]
  },
  {
   "cell_type": "markdown",
   "metadata": {},
   "source": [
    "#### Проверим данные на наличие аномалий"
   ]
  },
  {
   "cell_type": "code",
   "execution_count": 11,
   "metadata": {
    "scrolled": true
   },
   "outputs": [
    {
     "data": {
      "image/png": "[encoded data removed]",
      "text/plain": [
       "<Figure size 1080x360 with 2 Axes>"
      ]
     },
     "metadata": {
      "needs_background": "light"
     },
     "output_type": "display_data"
    },
    {
     "data": {
      "image/png": "[encoded data removed]",
      "text/plain": [
       "<Figure size 1080x360 with 2 Axes>"
      ]
     },
     "metadata": {
      "needs_background": "light"
     },
     "output_type": "display_data"
    },
    {
     "data": {
      "image/png": "[encoded data removed]",
      "text/plain": [
       "<Figure size 1080x360 with 2 Axes>"
      ]
     },
     "metadata": {
      "needs_background": "light"
     },
     "output_type": "display_data"
    },
    {
     "data": {
      "image/png": "[encoded data removed]",
      "text/plain": [
       "<Figure size 1080x360 with 2 Axes>"
      ]
     },
     "metadata": {
      "needs_background": "light"
     },
     "output_type": "display_data"
    }
   ],
   "source": [
    "col = ['f0', 'f1', 'f2', 'product']\n",
    "todoplot(data_0)"
   ]
  },
  {
   "cell_type": "code",
   "execution_count": 12,
   "metadata": {
    "scrolled": true
   },
   "outputs": [
    {
     "data": {
      "image/png": "[encoded data removed]",
      "text/plain": [
       "<Figure size 1080x360 with 2 Axes>"
      ]
     },
     "metadata": {
      "needs_background": "light"
     },
     "output_type": "display_data"
    },
    {
     "data": {
      "image/png": "[encoded data removed]",
      "text/plain": [
       "<Figure size 1080x360 with 2 Axes>"
      ]
     },
     "metadata": {
      "needs_background": "light"
     },
     "output_type": "display_data"
    },
    {
     "data": {
      "image/png": "[encoded data removed]",
      "text/plain": [
       "<Figure size 1080x360 with 2 Axes>"
      ]
     },
     "metadata": {
      "needs_background": "light"
     },
     "output_type": "display_data"
    },
    {
     "data": {
      "image/png": "[encoded data removed]",
      "text/plain": [
       "<Figure size 1080x360 with 2 Axes>"
      ]
     },
     "metadata": {
      "needs_background": "light"
     },
     "output_type": "display_data"
    }
   ],
   "source": [
    "col = ['f0', 'f1', 'f2', 'product']\n",
    "todoplot(data_1)"
   ]
  },
  {
   "cell_type": "code",
   "execution_count": 13,
   "metadata": {
    "scrolled": true
   },
   "outputs": [
    {
     "data": {
      "image/png": "[encoded data removed]",
      "text/plain": [
       "<Figure size 1080x360 with 2 Axes>"
      ]
     },
     "metadata": {
      "needs_background": "light"
     },
     "output_type": "display_data"
    },
    {
     "data": {
      "image/png": "[encoded data removed]",
      "text/plain": [
       "<Figure size 1080x360 with 2 Axes>"
      ]
     },
     "metadata": {
      "needs_background": "light"
     },
     "output_type": "display_data"
    },
    {
     "data": {
      "image/png": "[encoded data removed]",
      "text/plain": [
       "<Figure size 1080x360 with 2 Axes>"
      ]
     },
     "metadata": {
      "needs_background": "light"
     },
     "output_type": "display_data"
    },
    {
     "data": {
      "image/png": "[encoded data removed]",
      "text/plain": [
       "<Figure size 1080x360 with 2 Axes>"
      ]
     },
     "metadata": {
      "needs_background": "light"
     },
     "output_type": "display_data"
    }
   ],
   "source": [
    "col = ['f0', 'f1', 'f2', 'product']\n",
    "todoplot(data_2)"
   ]
  },
  {
   "cell_type": "markdown",
   "metadata": {},
   "source": [
    "**Выводы**:\n",
    "\n",
    "1. В датафреймах отсутствуют дубликаты и тип данных в столбцах корректный;\n",
    "\n",
    "2. В датафреймах присутвуют вбросы."
   ]
  },
  {
   "cell_type": "markdown",
   "metadata": {},
   "source": [
    "#### Проверим корреляцию между признаками"
   ]
  },
  {
   "cell_type": "code",
   "execution_count": 14,
   "metadata": {},
   "outputs": [
    {
     "data": {
      "text/html": [
       "<div>\n",
       "<style scoped>\n",
       "    .dataframe tbody tr th:only-of-type {\n",
       "        vertical-align: middle;\n",
       "    }\n",
       "\n",
       "    .dataframe tbody tr th {\n",
       "        vertical-align: top;\n",
       "    }\n",
       "\n",
       "    .dataframe thead th {\n",
       "        text-align: right;\n",
       "    }\n",
       "</style>\n",
       "<table border=\"1\" class=\"dataframe\">\n",
       "  <thead>\n",
       "    <tr style=\"text-align: right;\">\n",
       "      <th></th>\n",
       "      <th>f0</th>\n",
       "      <th>f1</th>\n",
       "      <th>f2</th>\n",
       "      <th>product</th>\n",
       "    </tr>\n",
       "  </thead>\n",
       "  <tbody>\n",
       "    <tr>\n",
       "      <th>f0</th>\n",
       "      <td>1.000000</td>\n",
       "      <td>-0.440723</td>\n",
       "      <td>-0.003153</td>\n",
       "      <td>0.143536</td>\n",
       "    </tr>\n",
       "    <tr>\n",
       "      <th>f1</th>\n",
       "      <td>-0.440723</td>\n",
       "      <td>1.000000</td>\n",
       "      <td>0.001724</td>\n",
       "      <td>-0.192356</td>\n",
       "    </tr>\n",
       "    <tr>\n",
       "      <th>f2</th>\n",
       "      <td>-0.003153</td>\n",
       "      <td>0.001724</td>\n",
       "      <td>1.000000</td>\n",
       "      <td>0.483663</td>\n",
       "    </tr>\n",
       "    <tr>\n",
       "      <th>product</th>\n",
       "      <td>0.143536</td>\n",
       "      <td>-0.192356</td>\n",
       "      <td>0.483663</td>\n",
       "      <td>1.000000</td>\n",
       "    </tr>\n",
       "  </tbody>\n",
       "</table>\n",
       "</div>"
      ],
      "text/plain": [
       "               f0        f1        f2   product\n",
       "f0       1.000000 -0.440723 -0.003153  0.143536\n",
       "f1      -0.440723  1.000000  0.001724 -0.192356\n",
       "f2      -0.003153  0.001724  1.000000  0.483663\n",
       "product  0.143536 -0.192356  0.483663  1.000000"
      ]
     },
     "execution_count": 14,
     "metadata": {},
     "output_type": "execute_result"
    }
   ],
   "source": [
    "data_0.corr()"
   ]
  },
  {
   "cell_type": "code",
   "execution_count": 15,
   "metadata": {},
   "outputs": [
    {
     "data": {
      "text/html": [
       "<div>\n",
       "<style scoped>\n",
       "    .dataframe tbody tr th:only-of-type {\n",
       "        vertical-align: middle;\n",
       "    }\n",
       "\n",
       "    .dataframe tbody tr th {\n",
       "        vertical-align: top;\n",
       "    }\n",
       "\n",
       "    .dataframe thead th {\n",
       "        text-align: right;\n",
       "    }\n",
       "</style>\n",
       "<table border=\"1\" class=\"dataframe\">\n",
       "  <thead>\n",
       "    <tr style=\"text-align: right;\">\n",
       "      <th></th>\n",
       "      <th>f0</th>\n",
       "      <th>f1</th>\n",
       "      <th>f2</th>\n",
       "      <th>product</th>\n",
       "    </tr>\n",
       "  </thead>\n",
       "  <tbody>\n",
       "    <tr>\n",
       "      <th>f0</th>\n",
       "      <td>1.000000</td>\n",
       "      <td>0.182287</td>\n",
       "      <td>-0.001777</td>\n",
       "      <td>-0.030491</td>\n",
       "    </tr>\n",
       "    <tr>\n",
       "      <th>f1</th>\n",
       "      <td>0.182287</td>\n",
       "      <td>1.000000</td>\n",
       "      <td>-0.002595</td>\n",
       "      <td>-0.010155</td>\n",
       "    </tr>\n",
       "    <tr>\n",
       "      <th>f2</th>\n",
       "      <td>-0.001777</td>\n",
       "      <td>-0.002595</td>\n",
       "      <td>1.000000</td>\n",
       "      <td>0.999397</td>\n",
       "    </tr>\n",
       "    <tr>\n",
       "      <th>product</th>\n",
       "      <td>-0.030491</td>\n",
       "      <td>-0.010155</td>\n",
       "      <td>0.999397</td>\n",
       "      <td>1.000000</td>\n",
       "    </tr>\n",
       "  </tbody>\n",
       "</table>\n",
       "</div>"
      ],
      "text/plain": [
       "               f0        f1        f2   product\n",
       "f0       1.000000  0.182287 -0.001777 -0.030491\n",
       "f1       0.182287  1.000000 -0.002595 -0.010155\n",
       "f2      -0.001777 -0.002595  1.000000  0.999397\n",
       "product -0.030491 -0.010155  0.999397  1.000000"
      ]
     },
     "execution_count": 15,
     "metadata": {},
     "output_type": "execute_result"
    }
   ],
   "source": [
    "data_1.corr()"
   ]
  },
  {
   "cell_type": "code",
   "execution_count": 16,
   "metadata": {},
   "outputs": [
    {
     "data": {
      "text/html": [
       "<div>\n",
       "<style scoped>\n",
       "    .dataframe tbody tr th:only-of-type {\n",
       "        vertical-align: middle;\n",
       "    }\n",
       "\n",
       "    .dataframe tbody tr th {\n",
       "        vertical-align: top;\n",
       "    }\n",
       "\n",
       "    .dataframe thead th {\n",
       "        text-align: right;\n",
       "    }\n",
       "</style>\n",
       "<table border=\"1\" class=\"dataframe\">\n",
       "  <thead>\n",
       "    <tr style=\"text-align: right;\">\n",
       "      <th></th>\n",
       "      <th>f0</th>\n",
       "      <th>f1</th>\n",
       "      <th>f2</th>\n",
       "      <th>product</th>\n",
       "    </tr>\n",
       "  </thead>\n",
       "  <tbody>\n",
       "    <tr>\n",
       "      <th>f0</th>\n",
       "      <td>1.000000</td>\n",
       "      <td>0.000528</td>\n",
       "      <td>-0.000448</td>\n",
       "      <td>-0.001987</td>\n",
       "    </tr>\n",
       "    <tr>\n",
       "      <th>f1</th>\n",
       "      <td>0.000528</td>\n",
       "      <td>1.000000</td>\n",
       "      <td>0.000779</td>\n",
       "      <td>-0.001012</td>\n",
       "    </tr>\n",
       "    <tr>\n",
       "      <th>f2</th>\n",
       "      <td>-0.000448</td>\n",
       "      <td>0.000779</td>\n",
       "      <td>1.000000</td>\n",
       "      <td>0.445871</td>\n",
       "    </tr>\n",
       "    <tr>\n",
       "      <th>product</th>\n",
       "      <td>-0.001987</td>\n",
       "      <td>-0.001012</td>\n",
       "      <td>0.445871</td>\n",
       "      <td>1.000000</td>\n",
       "    </tr>\n",
       "  </tbody>\n",
       "</table>\n",
       "</div>"
      ],
      "text/plain": [
       "               f0        f1        f2   product\n",
       "f0       1.000000  0.000528 -0.000448 -0.001987\n",
       "f1       0.000528  1.000000  0.000779 -0.001012\n",
       "f2      -0.000448  0.000779  1.000000  0.445871\n",
       "product -0.001987 -0.001012  0.445871  1.000000"
      ]
     },
     "execution_count": 16,
     "metadata": {},
     "output_type": "execute_result"
    }
   ],
   "source": [
    "data_2.corr()"
   ]
  },
  {
   "cell_type": "markdown",
   "metadata": {},
   "source": [
    "**Выводы**:\n",
    "\n",
    "Заметим, что в нулевом фрейме признаки f0 и f1 отрицательно коррелируют относительно друг друга и f2 слабо положительно коррелирует с целевым признаком. Так же в первом фрейме очень сильно коррелирует целевой признак и f2. Во втором фрейме так же есть коррелирующие признаки, такие как f2 и product.\n",
    "\n",
    "Если в случае с первым фреймом все достаточно понятно, там очень высокая корреляция и признак f2 следует удалить, то вот в случае с другими двумя выборками стоит опираться на результат, который мы получим на моделях, Следовательно необходимо подготовить 3 выборок:\n",
    "\n",
    "Нулевая со всеми столбцами\n",
    "\n",
    "Первая со всеми столбцами\n",
    "\n",
    "Вторая со всеми столбцами"
   ]
  },
  {
   "cell_type": "markdown",
   "metadata": {},
   "source": [
    "**Общий вывод к 1-му разделу**:\n",
    "\n",
    "1. Пропуски - отсутствуют\n",
    "2. Типы столбцов - корректны\n",
    "3. Названия столбцов - корректны\n",
    "4. Дубликаты - отсутствуют\n",
    "5. Объем запасов - положительный"
   ]
  },
  {
   "cell_type": "markdown",
   "metadata": {},
   "source": [
    "## Обучение и проверка модели"
   ]
  },
  {
   "cell_type": "markdown",
   "metadata": {},
   "source": [
    "### Разобьем данные на обучающую и валидационую выборки. Также обучем модель, сделаем предсказание на валидационной выборке и сохраним результат"
   ]
  },
  {
   "cell_type": "code",
   "execution_count": 17,
   "metadata": {},
   "outputs": [],
   "source": [
    "array_name = [\"data_0\",\n",
    "              \"data_2\",\n",
    "              \"data_1\"]\n",
    "\n",
    "array_frame = [data_0,\n",
    "              data_2,\n",
    "              data_1]\n",
    "\n",
    "data_dict = {\"pipelines\":{},\"scores\":{},\"valid\":{}}\n",
    "\n",
    "for frame, name in zip(array_frame, array_name):\n",
    "    \n",
    "    features = frame.drop([\"id\", \"product\"], axis = 1)\n",
    "    target = frame[\"product\"]\n",
    "    \n",
    "    new_pipeline = make_pipeline(StandardScaler(), LinearRegression())\n",
    "    \n",
    "    \n",
    "    (features_train,\n",
    "    features_valid,\n",
    "    target_train,\n",
    "    target_valid) = train_test_split(features,\n",
    "                                     target,\n",
    "                                     test_size = 0.25,\n",
    "                                     random_state = RANDOM)\n",
    "    data_dict['valid'][name] = (features_valid,target_valid)\n",
    "    new_pipeline.fit(features_train,target_train)\n",
    "    \n",
    "    data_dict['pipelines'][name] = new_pipeline\n",
    "    data_dict['scores'][name] = mean_squared_error(target_valid,\n",
    "                                                   new_pipeline.predict(features_valid))**0.5"
   ]
  },
  {
   "cell_type": "code",
   "execution_count": 18,
   "metadata": {},
   "outputs": [
    {
     "data": {
      "text/plain": [
       "{'data_0': 37.75660035026169,\n",
       " 'data_2': 40.145872311342174,\n",
       " 'data_1': 0.8902801001028846}"
      ]
     },
     "execution_count": 18,
     "metadata": {},
     "output_type": "execute_result"
    }
   ],
   "source": [
    "data_dict['scores']"
   ]
  },
  {
   "cell_type": "markdown",
   "metadata": {},
   "source": [
    "Выборка с минимальной ошибкой:\n",
    "\n",
    "1. Первый регион: 'data_1'\n",
    "2. Нулевой регион: 'data_0'\n",
    "3. Второй регион: 'data_2'"
   ]
  },
  {
   "cell_type": "markdown",
   "metadata": {},
   "source": [
    "### Выведем на экран средний запас предсказанного сырья и RMSE"
   ]
  },
  {
   "cell_type": "code",
   "execution_count": 19,
   "metadata": {},
   "outputs": [],
   "source": [
    "predicted_values_zero = data_dict['pipelines']['data_0'].predict(data_dict['valid']['data_0'][0])\n",
    "predicted_values_first = data_dict['pipelines']['data_1'].predict(data_dict['valid']['data_1'][0])\n",
    "predicted_values_second = data_dict['pipelines']['data_2'].predict(data_dict['valid']['data_2'][0])\n",
    "\n",
    "RMSE_model_zero = (mean_squared_error(data_dict['valid']['data_0'][1], predicted_values_zero))**0.5\n",
    "RMSE_model_first = (mean_squared_error(data_dict['valid']['data_1'][1], predicted_values_first))**0.5\n",
    "RMSE_model_second = (mean_squared_error(data_dict['valid']['data_2'][1], predicted_values_second))**0.5"
   ]
  },
  {
   "cell_type": "code",
   "execution_count": 20,
   "metadata": {},
   "outputs": [
    {
     "name": "stdout",
     "output_type": "stream",
     "text": [
      "Нулевой регион: средний запас 92.39879990657768; RMSE 37.75660035026169\n",
      " Первый регион: средний запас 68.7128780391376; RMSE 0.8902801001028846\n",
      " Второй регион: средний запас 94.77102387765939; RMSE 40.145872311342174\n",
      "\n"
     ]
    }
   ],
   "source": [
    "print(f'Нулевой регион: средний запас {predicted_values_zero.mean()}; RMSE {RMSE_model_zero}\\n',\n",
    "      f'Первый регион: средний запас {predicted_values_first.mean()}; RMSE {RMSE_model_first}\\n',\n",
    "      f'Второй регион: средний запас {predicted_values_second.mean()}; RMSE {RMSE_model_second}\\n',\n",
    "     )"
   ]
  },
  {
   "cell_type": "markdown",
   "metadata": {},
   "source": [
    "**Вывод ко 2-му разделу**:\n",
    "\n",
    "- Нулевой регион:\n",
    "Ошибка в нулевом регионе на втором и по среднему объему запасов регион на втором месте\n",
    "\n",
    "- Первый регион:\n",
    "Ошибка в первом регионе самая маленькая, но по среднему объему запасов регион на последнем месте\n",
    "\n",
    "- Второй регион:\n",
    "Самый большой средний объем запасов, но по ошибке регион на последнем месте"
   ]
  },
  {
   "cell_type": "markdown",
   "metadata": {},
   "source": [
    "## Подготовка к расчёту прибыли"
   ]
  },
  {
   "cell_type": "markdown",
   "metadata": {},
   "source": [
    "### Сохраним все ключевые значения в отдельных переменных и рассчитаем достаточный объем для безубыточной разработки новой скважины"
   ]
  },
  {
   "cell_type": "code",
   "execution_count": 21,
   "metadata": {},
   "outputs": [],
   "source": [
    "BUDGET_PER_REGION = 10*(10**9)\n",
    "PRE_MAX_POINTS = 500\n",
    "FINAL_MAX_POINTS = 200\n",
    "PRICE_PER_BARREL = 450000\n",
    "DAMAGE_THRESHOLD =  0.025\n",
    "NON_DAMAGE_POINT = (BUDGET_PER_REGION/(PRICE_PER_BARREL*(10**3)))/(FINAL_MAX_POINTS)"
   ]
  },
  {
   "cell_type": "code",
   "execution_count": 22,
   "metadata": {},
   "outputs": [
    {
     "name": "stdout",
     "output_type": "stream",
     "text": [
      "Достаточный объем добычи для безубыточной разработки 0.11\n"
     ]
    }
   ],
   "source": [
    "print(\"Достаточный объем добычи для безубыточной разработки\", round(NON_DAMAGE_POINT,2))"
   ]
  },
  {
   "cell_type": "markdown",
   "metadata": {},
   "source": [
    "### Сравним достаточный объем со средним объемом добычи в регионах"
   ]
  },
  {
   "cell_type": "code",
   "execution_count": 23,
   "metadata": {
    "scrolled": true
   },
   "outputs": [
    {
     "data": {
      "text/html": [
       "<div>\n",
       "<style scoped>\n",
       "    .dataframe tbody tr th:only-of-type {\n",
       "        vertical-align: middle;\n",
       "    }\n",
       "\n",
       "    .dataframe tbody tr th {\n",
       "        vertical-align: top;\n",
       "    }\n",
       "\n",
       "    .dataframe thead th {\n",
       "        text-align: right;\n",
       "    }\n",
       "</style>\n",
       "<table border=\"1\" class=\"dataframe\">\n",
       "  <thead>\n",
       "    <tr style=\"text-align: right;\">\n",
       "      <th></th>\n",
       "      <th>f0</th>\n",
       "      <th>f1</th>\n",
       "      <th>f2</th>\n",
       "      <th>product</th>\n",
       "    </tr>\n",
       "  </thead>\n",
       "  <tbody>\n",
       "    <tr>\n",
       "      <th>count</th>\n",
       "      <td>100000.000000</td>\n",
       "      <td>100000.000000</td>\n",
       "      <td>100000.000000</td>\n",
       "      <td>100000.000000</td>\n",
       "    </tr>\n",
       "    <tr>\n",
       "      <th>mean</th>\n",
       "      <td>0.500419</td>\n",
       "      <td>0.250143</td>\n",
       "      <td>2.502647</td>\n",
       "      <td>92.500000</td>\n",
       "    </tr>\n",
       "    <tr>\n",
       "      <th>std</th>\n",
       "      <td>0.871832</td>\n",
       "      <td>0.504433</td>\n",
       "      <td>3.248248</td>\n",
       "      <td>44.288691</td>\n",
       "    </tr>\n",
       "    <tr>\n",
       "      <th>min</th>\n",
       "      <td>-1.408605</td>\n",
       "      <td>-0.848218</td>\n",
       "      <td>-12.088328</td>\n",
       "      <td>0.000000</td>\n",
       "    </tr>\n",
       "    <tr>\n",
       "      <th>25%</th>\n",
       "      <td>-0.072580</td>\n",
       "      <td>-0.200881</td>\n",
       "      <td>0.287748</td>\n",
       "      <td>56.497507</td>\n",
       "    </tr>\n",
       "    <tr>\n",
       "      <th>50%</th>\n",
       "      <td>0.502360</td>\n",
       "      <td>0.250252</td>\n",
       "      <td>2.515969</td>\n",
       "      <td>91.849972</td>\n",
       "    </tr>\n",
       "    <tr>\n",
       "      <th>75%</th>\n",
       "      <td>1.073581</td>\n",
       "      <td>0.700646</td>\n",
       "      <td>4.715088</td>\n",
       "      <td>128.564089</td>\n",
       "    </tr>\n",
       "    <tr>\n",
       "      <th>max</th>\n",
       "      <td>2.362331</td>\n",
       "      <td>1.343769</td>\n",
       "      <td>16.003790</td>\n",
       "      <td>185.364347</td>\n",
       "    </tr>\n",
       "  </tbody>\n",
       "</table>\n",
       "</div>"
      ],
      "text/plain": [
       "                  f0             f1             f2        product\n",
       "count  100000.000000  100000.000000  100000.000000  100000.000000\n",
       "mean        0.500419       0.250143       2.502647      92.500000\n",
       "std         0.871832       0.504433       3.248248      44.288691\n",
       "min        -1.408605      -0.848218     -12.088328       0.000000\n",
       "25%        -0.072580      -0.200881       0.287748      56.497507\n",
       "50%         0.502360       0.250252       2.515969      91.849972\n",
       "75%         1.073581       0.700646       4.715088     128.564089\n",
       "max         2.362331       1.343769      16.003790     185.364347"
      ]
     },
     "execution_count": 23,
     "metadata": {},
     "output_type": "execute_result"
    }
   ],
   "source": [
    "data_0.describe()"
   ]
  },
  {
   "cell_type": "code",
   "execution_count": 24,
   "metadata": {
    "scrolled": true
   },
   "outputs": [
    {
     "data": {
      "text/html": [
       "<div>\n",
       "<style scoped>\n",
       "    .dataframe tbody tr th:only-of-type {\n",
       "        vertical-align: middle;\n",
       "    }\n",
       "\n",
       "    .dataframe tbody tr th {\n",
       "        vertical-align: top;\n",
       "    }\n",
       "\n",
       "    .dataframe thead th {\n",
       "        text-align: right;\n",
       "    }\n",
       "</style>\n",
       "<table border=\"1\" class=\"dataframe\">\n",
       "  <thead>\n",
       "    <tr style=\"text-align: right;\">\n",
       "      <th></th>\n",
       "      <th>f0</th>\n",
       "      <th>f1</th>\n",
       "      <th>f2</th>\n",
       "      <th>product</th>\n",
       "    </tr>\n",
       "  </thead>\n",
       "  <tbody>\n",
       "    <tr>\n",
       "      <th>count</th>\n",
       "      <td>100000.000000</td>\n",
       "      <td>100000.000000</td>\n",
       "      <td>100000.000000</td>\n",
       "      <td>100000.000000</td>\n",
       "    </tr>\n",
       "    <tr>\n",
       "      <th>mean</th>\n",
       "      <td>1.141296</td>\n",
       "      <td>-4.796579</td>\n",
       "      <td>2.494541</td>\n",
       "      <td>68.825000</td>\n",
       "    </tr>\n",
       "    <tr>\n",
       "      <th>std</th>\n",
       "      <td>8.965932</td>\n",
       "      <td>5.119872</td>\n",
       "      <td>1.703572</td>\n",
       "      <td>45.944423</td>\n",
       "    </tr>\n",
       "    <tr>\n",
       "      <th>min</th>\n",
       "      <td>-31.609576</td>\n",
       "      <td>-26.358598</td>\n",
       "      <td>-0.018144</td>\n",
       "      <td>0.000000</td>\n",
       "    </tr>\n",
       "    <tr>\n",
       "      <th>25%</th>\n",
       "      <td>-6.298551</td>\n",
       "      <td>-8.267985</td>\n",
       "      <td>1.000021</td>\n",
       "      <td>26.953261</td>\n",
       "    </tr>\n",
       "    <tr>\n",
       "      <th>50%</th>\n",
       "      <td>1.153055</td>\n",
       "      <td>-4.813172</td>\n",
       "      <td>2.011479</td>\n",
       "      <td>57.085625</td>\n",
       "    </tr>\n",
       "    <tr>\n",
       "      <th>75%</th>\n",
       "      <td>8.621015</td>\n",
       "      <td>-1.332816</td>\n",
       "      <td>3.999904</td>\n",
       "      <td>107.813044</td>\n",
       "    </tr>\n",
       "    <tr>\n",
       "      <th>max</th>\n",
       "      <td>29.421755</td>\n",
       "      <td>18.734063</td>\n",
       "      <td>5.019721</td>\n",
       "      <td>137.945408</td>\n",
       "    </tr>\n",
       "  </tbody>\n",
       "</table>\n",
       "</div>"
      ],
      "text/plain": [
       "                  f0             f1             f2        product\n",
       "count  100000.000000  100000.000000  100000.000000  100000.000000\n",
       "mean        1.141296      -4.796579       2.494541      68.825000\n",
       "std         8.965932       5.119872       1.703572      45.944423\n",
       "min       -31.609576     -26.358598      -0.018144       0.000000\n",
       "25%        -6.298551      -8.267985       1.000021      26.953261\n",
       "50%         1.153055      -4.813172       2.011479      57.085625\n",
       "75%         8.621015      -1.332816       3.999904     107.813044\n",
       "max        29.421755      18.734063       5.019721     137.945408"
      ]
     },
     "execution_count": 24,
     "metadata": {},
     "output_type": "execute_result"
    }
   ],
   "source": [
    "data_1.describe()"
   ]
  },
  {
   "cell_type": "code",
   "execution_count": 25,
   "metadata": {},
   "outputs": [
    {
     "data": {
      "text/html": [
       "<div>\n",
       "<style scoped>\n",
       "    .dataframe tbody tr th:only-of-type {\n",
       "        vertical-align: middle;\n",
       "    }\n",
       "\n",
       "    .dataframe tbody tr th {\n",
       "        vertical-align: top;\n",
       "    }\n",
       "\n",
       "    .dataframe thead th {\n",
       "        text-align: right;\n",
       "    }\n",
       "</style>\n",
       "<table border=\"1\" class=\"dataframe\">\n",
       "  <thead>\n",
       "    <tr style=\"text-align: right;\">\n",
       "      <th></th>\n",
       "      <th>f0</th>\n",
       "      <th>f1</th>\n",
       "      <th>f2</th>\n",
       "      <th>product</th>\n",
       "    </tr>\n",
       "  </thead>\n",
       "  <tbody>\n",
       "    <tr>\n",
       "      <th>count</th>\n",
       "      <td>100000.000000</td>\n",
       "      <td>100000.000000</td>\n",
       "      <td>100000.000000</td>\n",
       "      <td>100000.000000</td>\n",
       "    </tr>\n",
       "    <tr>\n",
       "      <th>mean</th>\n",
       "      <td>0.002023</td>\n",
       "      <td>-0.002081</td>\n",
       "      <td>2.495128</td>\n",
       "      <td>95.000000</td>\n",
       "    </tr>\n",
       "    <tr>\n",
       "      <th>std</th>\n",
       "      <td>1.732045</td>\n",
       "      <td>1.730417</td>\n",
       "      <td>3.473445</td>\n",
       "      <td>44.749921</td>\n",
       "    </tr>\n",
       "    <tr>\n",
       "      <th>min</th>\n",
       "      <td>-8.760004</td>\n",
       "      <td>-7.084020</td>\n",
       "      <td>-11.970335</td>\n",
       "      <td>0.000000</td>\n",
       "    </tr>\n",
       "    <tr>\n",
       "      <th>25%</th>\n",
       "      <td>-1.162288</td>\n",
       "      <td>-1.174820</td>\n",
       "      <td>0.130359</td>\n",
       "      <td>59.450441</td>\n",
       "    </tr>\n",
       "    <tr>\n",
       "      <th>50%</th>\n",
       "      <td>0.009424</td>\n",
       "      <td>-0.009482</td>\n",
       "      <td>2.484236</td>\n",
       "      <td>94.925613</td>\n",
       "    </tr>\n",
       "    <tr>\n",
       "      <th>75%</th>\n",
       "      <td>1.158535</td>\n",
       "      <td>1.163678</td>\n",
       "      <td>4.858794</td>\n",
       "      <td>130.595027</td>\n",
       "    </tr>\n",
       "    <tr>\n",
       "      <th>max</th>\n",
       "      <td>7.238262</td>\n",
       "      <td>7.844801</td>\n",
       "      <td>16.739402</td>\n",
       "      <td>190.029838</td>\n",
       "    </tr>\n",
       "  </tbody>\n",
       "</table>\n",
       "</div>"
      ],
      "text/plain": [
       "                  f0             f1             f2        product\n",
       "count  100000.000000  100000.000000  100000.000000  100000.000000\n",
       "mean        0.002023      -0.002081       2.495128      95.000000\n",
       "std         1.732045       1.730417       3.473445      44.749921\n",
       "min        -8.760004      -7.084020     -11.970335       0.000000\n",
       "25%        -1.162288      -1.174820       0.130359      59.450441\n",
       "50%         0.009424      -0.009482       2.484236      94.925613\n",
       "75%         1.158535       1.163678       4.858794     130.595027\n",
       "max         7.238262       7.844801      16.739402     190.029838"
      ]
     },
     "execution_count": 25,
     "metadata": {},
     "output_type": "execute_result"
    }
   ],
   "source": [
    "data_2.describe()"
   ]
  },
  {
   "cell_type": "code",
   "execution_count": 26,
   "metadata": {},
   "outputs": [
    {
     "name": "stdout",
     "output_type": "stream",
     "text": [
      "25% скважин в нулевом регионе содержат больше сырья, чем  128.56\n",
      "16% скважин в нулевом регионе содержат больше сырья, чем  134.77\n",
      "25% скважин в нулевом регионе содержат больше сырья, чем  136.97\n"
     ]
    }
   ],
   "source": [
    "print(\"25% скважин в нулевом регионе содержат больше сырья, чем \",\n",
    "      round(data_0[\"product\"].quantile(0.75),2))\n",
    "print(\"16% скважин в нулевом регионе содержат больше сырья, чем \",\n",
    "      round(data_1[\"product\"].quantile(0.84),2))\n",
    "print(\"25% скважин в нулевом регионе содержат больше сырья, чем \",\n",
    "      round(data_2[\"product\"].quantile(0.80),2))"
   ]
  },
  {
   "cell_type": "markdown",
   "metadata": {},
   "source": [
    "**Вывод к 3-му разделу**:\n",
    "\n",
    "Минимальное количество баррелей нефти для безубыточной разработки составило 111.(1).\n",
    "\n",
    "В тоже время максимальное средний объем в регионах равен 94. Если обратить внимание на распределение объема запасов по району, можно заметить, что в нулевом и втором районах 20% скважин проходят минимальный порог(учитывая объемы выборок, 20% составляют чуть меньше 20 000 скважин).\n",
    "\n",
    "В то время как в первом районе подходят только 16% скважин."
   ]
  },
  {
   "cell_type": "markdown",
   "metadata": {},
   "source": [
    "## Расчёт прибыли и рисков "
   ]
  },
  {
   "cell_type": "markdown",
   "metadata": {},
   "source": [
    "### Расчет прибыли"
   ]
  },
  {
   "cell_type": "markdown",
   "metadata": {},
   "source": [
    "Воспользуемся функцией для расчета прибыли, которую написали в начале кода."
   ]
  },
  {
   "cell_type": "code",
   "execution_count": 27,
   "metadata": {},
   "outputs": [
    {
     "name": "stdout",
     "output_type": "stream",
     "text": [
      "Прибыль с лучших 200 скважин в нулевом регионе: 3359141114.46\n",
      "Прибыль с лучших 200 скважин во втором регионе: 2598571759.37\n",
      "Прибыль с лучших 200 скважин в первом регионе: 2415086696.68\n"
     ]
    }
   ],
   "source": [
    "print(\"Прибыль с лучших 200 скважин в нулевом регионе:\",income(data_dict['valid']['data_0'][1],\n",
    "                                                               predicted_values_zero))\n",
    "print(\"Прибыль с лучших 200 скважин во втором регионе:\",income(data_dict['valid']['data_2'][1],\n",
    "                                                               predicted_values_second))\n",
    "print(\"Прибыль с лучших 200 скважин в первом регионе:\",income(data_dict['valid']['data_1'][1],\n",
    "                                                               predicted_values_first))"
   ]
  },
  {
   "cell_type": "markdown",
   "metadata": {},
   "source": [
    "### Расчет рисков"
   ]
  },
  {
   "cell_type": "markdown",
   "metadata": {},
   "source": [
    "Воспользуемся функцией для расчета рисков, которую написали в начале кода."
   ]
  },
  {
   "cell_type": "code",
   "execution_count": 28,
   "metadata": {},
   "outputs": [
    {
     "name": "stderr",
     "output_type": "stream",
     "text": [
      "100%|██████████| 1000/1000 [00:00<00:00, 1397.79it/s]\n"
     ]
    },
    {
     "name": "stdout",
     "output_type": "stream",
     "text": [
      "399575478.05415004\n",
      "6.0 %\n",
      "95% доверительный итервал для Нулевового региона лежит между: (-110467895.33, 897460327.71)\n",
      "\n"
     ]
    },
    {
     "name": "stderr",
     "output_type": "stream",
     "text": [
      "100%|██████████| 1000/1000 [00:00<00:00, 1371.72it/s]\n"
     ]
    },
    {
     "name": "stdout",
     "output_type": "stream",
     "text": [
      "379316376.44776\n",
      "7.199999999999999 %\n",
      "95% Доверительный итервал для Второго региона лежит между: (-120473654.57, 881880173.73)\n",
      "\n"
     ]
    },
    {
     "name": "stderr",
     "output_type": "stream",
     "text": [
      "100%|██████████| 1000/1000 [00:00<00:00, 1371.79it/s]"
     ]
    },
    {
     "name": "stdout",
     "output_type": "stream",
     "text": [
      "440623590.15471995\n",
      "1.7000000000000002 %\n",
      "95% Доверительный итервал для Первого  региона лежит между: (40323501.96, 846674363.93)\n"
     ]
    },
    {
     "name": "stderr",
     "output_type": "stream",
     "text": [
      "\n"
     ]
    }
   ],
   "source": [
    "print(\"95% доверительный итервал для Нулевового региона лежит между:\",\n",
    "      confidence_interval(data_dict['valid']['data_0'][1],pd.Series(predicted_values_zero)))\n",
    "print()\n",
    "print(\"95% Доверительный итервал для Второго региона лежит между:\",\n",
    "      confidence_interval(data_dict['valid']['data_2'][1],predicted_values_second))\n",
    "print()\n",
    "print(\"95% Доверительный итервал для Первого  региона лежит между:\",\n",
    "      confidence_interval(data_dict['valid']['data_1'][1],predicted_values_first))"
   ]
  },
  {
   "cell_type": "markdown",
   "metadata": {},
   "source": [
    "**Вывод к 4-му разделу**:\n",
    "\n",
    "- Нулевой регион:\n",
    "Доверительный интервал: (-110 929 096.14, 891 087 236.3)\n",
    "Точка безубыточности: 111.(1)\n",
    "Средняя прибыль с одной скважины в нулевом регионе: 381 840 608.64\n",
    "Риски: 6.7 %\n",
    "\n",
    "- Первый регион:\n",
    "Доверительный интервал: (40 323 501.96, 846 674 363.93)\n",
    "Точка безубыточности: 111.(1)\n",
    "Средняя прибыль с одной скважины в первом регионе: 440 623 590.16\n",
    "Риски: 1,7 %\n",
    "\n",
    "- Второй регион:\n",
    "Доверительный интервал: (-142 559 672.52, 900 660 974.77)\n",
    "Точка безубыточности: 111.(1)\n",
    "Средняя прибыль с одной скважины во втором регионе: 382 973 380.23\n",
    "Риски: 7 %\n",
    "\n",
    "По условию рисков подходит только первый регион, но в нем присутствует сильная корреляция с признаком ф2. Поэтому данный анализ сомнителен. Если же выбирать из наименее рискованных, наиболее подходящим будет нулевой регион. Но также можно заметить, что по сравнению со вторым регионом у него средняя прибыль меньше, в то же время у второго региона на 0,3% выше риски."
   ]
  },
  {
   "cell_type": "markdown",
   "metadata": {},
   "source": [
    "## Чек-лист готовности проекта"
   ]
  },
  {
   "cell_type": "markdown",
   "metadata": {},
   "source": [
    "Поставьте 'x' в выполненных пунктах. Далее нажмите Shift+Enter."
   ]
  },
  {
   "cell_type": "markdown",
   "metadata": {},
   "source": [
    "- [x]  Jupyter Notebook открыт\n",
    "- [x]  Весь код выполняется без ошибок\n",
    "- [x]  Ячейки с кодом расположены в порядке исполнения\n",
    "- [x]  Выполнен шаг 1: данные подготовлены\n",
    "- [x]  Выполнен шаг 2: модели обучены и проверены\n",
    "    - [x]  Данные корректно разбиты на обучающую и валидационную выборки\n",
    "    - [x]  Модели обучены, предсказания сделаны\n",
    "    - [x]  Предсказания и правильные ответы на валидационной выборке сохранены\n",
    "    - [x]  На экране напечатаны результаты\n",
    "    - [x]  Сделаны выводы\n",
    "- [x]  Выполнен шаг 3: проведена подготовка к расчёту прибыли\n",
    "    - [x]  Для всех ключевых значений созданы константы Python\n",
    "    - [x]  Посчитано минимальное среднее количество продукта в месторождениях региона, достаточное для разработки\n",
    "    - [x]  По предыдущему пункту сделаны выводы\n",
    "    - [x]  Написана функция расчёта прибыли\n",
    "- [x]  Выполнен шаг 4: посчитаны риски и прибыль\n",
    "    - [x]  Проведена процедура *Bootstrap*\n",
    "    - [x]  Все параметры бутстрепа соответствуют условию\n",
    "    - [x]  Найдены все нужные величины\n",
    "    - [x]  Предложен регион для разработки месторождения\n",
    "    - [x]  Выбор региона обоснован"
   ]
  }
 ],
 "metadata": {
  "ExecuteTimeLog": [
   {
    "duration": 1664,
    "start_time": "2024-10-05T12:06:24.499Z"
   },
   {
    "duration": 948,
    "start_time": "2024-10-05T12:09:43.726Z"
   },
   {
    "duration": 18,
    "start_time": "2024-10-05T12:09:58.587Z"
   },
   {
    "duration": 10,
    "start_time": "2024-10-05T12:10:43.624Z"
   },
   {
    "duration": 9,
    "start_time": "2024-10-05T12:10:57.679Z"
   },
   {
    "duration": 4,
    "start_time": "2024-10-05T12:31:53.286Z"
   },
   {
    "duration": 72,
    "start_time": "2024-10-05T12:32:51.291Z"
   },
   {
    "duration": 69,
    "start_time": "2024-10-05T12:34:19.914Z"
   },
   {
    "duration": 73,
    "start_time": "2024-10-05T12:34:41.536Z"
   },
   {
    "duration": 16,
    "start_time": "2024-10-05T12:36:54.698Z"
   },
   {
    "duration": 1735,
    "start_time": "2024-10-07T15:49:57.142Z"
   },
   {
    "duration": 4,
    "start_time": "2024-10-07T15:49:58.879Z"
   },
   {
    "duration": 1765,
    "start_time": "2024-10-07T15:49:58.885Z"
   },
   {
    "duration": 82,
    "start_time": "2024-10-07T15:50:00.652Z"
   },
   {
    "duration": 79,
    "start_time": "2024-10-07T15:50:00.736Z"
   },
   {
    "duration": 88,
    "start_time": "2024-10-07T15:50:00.817Z"
   },
   {
    "duration": 6,
    "start_time": "2024-10-07T15:53:18.153Z"
   },
   {
    "duration": 130,
    "start_time": "2024-10-07T15:56:44.224Z"
   },
   {
    "duration": 988,
    "start_time": "2024-10-07T15:56:53.854Z"
   },
   {
    "duration": 1010,
    "start_time": "2024-10-07T15:57:32.919Z"
   },
   {
    "duration": 985,
    "start_time": "2024-10-07T15:59:10.990Z"
   },
   {
    "duration": 1408,
    "start_time": "2024-10-20T01:22:55.892Z"
   },
   {
    "duration": 3,
    "start_time": "2024-10-20T01:22:57.302Z"
   },
   {
    "duration": 13,
    "start_time": "2024-10-20T01:22:57.307Z"
   },
   {
    "duration": 880,
    "start_time": "2024-10-20T01:22:57.321Z"
   },
   {
    "duration": 71,
    "start_time": "2024-10-20T01:22:58.203Z"
   },
   {
    "duration": 69,
    "start_time": "2024-10-20T01:22:58.276Z"
   },
   {
    "duration": 67,
    "start_time": "2024-10-20T01:22:58.346Z"
   },
   {
    "duration": 766,
    "start_time": "2024-10-20T01:22:58.414Z"
   },
   {
    "duration": 783,
    "start_time": "2024-10-20T01:22:59.181Z"
   },
   {
    "duration": 782,
    "start_time": "2024-10-20T01:22:59.966Z"
   },
   {
    "duration": 4,
    "start_time": "2024-10-20T01:49:51.822Z"
   },
   {
    "duration": 8,
    "start_time": "2024-10-20T01:50:41.540Z"
   },
   {
    "duration": 184,
    "start_time": "2024-10-20T01:53:44.910Z"
   },
   {
    "duration": 10,
    "start_time": "2024-10-20T01:55:01.318Z"
   },
   {
    "duration": 11,
    "start_time": "2024-10-20T01:55:22.911Z"
   },
   {
    "duration": 3,
    "start_time": "2024-10-20T02:01:28.945Z"
   },
   {
    "duration": 21,
    "start_time": "2024-10-20T02:03:16.551Z"
   },
   {
    "duration": 21,
    "start_time": "2024-10-20T02:04:21.571Z"
   },
   {
    "duration": 14,
    "start_time": "2024-10-20T02:05:38.318Z"
   },
   {
    "duration": 16,
    "start_time": "2024-10-20T02:06:08.341Z"
   },
   {
    "duration": 13,
    "start_time": "2024-10-20T02:06:16.719Z"
   },
   {
    "duration": 4,
    "start_time": "2024-10-20T02:09:48.696Z"
   },
   {
    "duration": 1174,
    "start_time": "2024-10-20T02:11:13.152Z"
   },
   {
    "duration": 3,
    "start_time": "2024-10-20T02:11:14.328Z"
   },
   {
    "duration": 4,
    "start_time": "2024-10-20T02:11:14.332Z"
   },
   {
    "duration": 5,
    "start_time": "2024-10-20T02:11:14.339Z"
   },
   {
    "duration": 326,
    "start_time": "2024-10-20T02:11:14.345Z"
   },
   {
    "duration": 74,
    "start_time": "2024-10-20T02:11:14.672Z"
   },
   {
    "duration": 64,
    "start_time": "2024-10-20T02:11:14.748Z"
   },
   {
    "duration": 59,
    "start_time": "2024-10-20T02:11:14.814Z"
   },
   {
    "duration": 761,
    "start_time": "2024-10-20T02:11:14.874Z"
   },
   {
    "duration": 788,
    "start_time": "2024-10-20T02:11:15.637Z"
   },
   {
    "duration": 739,
    "start_time": "2024-10-20T02:11:16.426Z"
   },
   {
    "duration": 203,
    "start_time": "2024-10-20T02:11:17.166Z"
   },
   {
    "duration": 10,
    "start_time": "2024-10-20T02:11:17.370Z"
   },
   {
    "duration": 28,
    "start_time": "2024-10-20T02:11:17.381Z"
   },
   {
    "duration": 13,
    "start_time": "2024-10-20T02:11:17.410Z"
   },
   {
    "duration": 12,
    "start_time": "2024-10-20T02:11:17.424Z"
   },
   {
    "duration": 4,
    "start_time": "2024-10-20T02:11:17.438Z"
   },
   {
    "duration": 1218,
    "start_time": "2024-10-20T02:49:15.727Z"
   },
   {
    "duration": 3,
    "start_time": "2024-10-20T02:49:16.947Z"
   },
   {
    "duration": 5,
    "start_time": "2024-10-20T02:49:16.951Z"
   },
   {
    "duration": 4,
    "start_time": "2024-10-20T02:49:16.957Z"
   },
   {
    "duration": 336,
    "start_time": "2024-10-20T02:49:16.963Z"
   },
   {
    "duration": 63,
    "start_time": "2024-10-20T02:49:17.301Z"
   },
   {
    "duration": 70,
    "start_time": "2024-10-20T02:49:17.365Z"
   },
   {
    "duration": 57,
    "start_time": "2024-10-20T02:49:17.437Z"
   },
   {
    "duration": 761,
    "start_time": "2024-10-20T02:49:17.495Z"
   },
   {
    "duration": 834,
    "start_time": "2024-10-20T02:49:18.259Z"
   },
   {
    "duration": 805,
    "start_time": "2024-10-20T02:49:19.094Z"
   },
   {
    "duration": 195,
    "start_time": "2024-10-20T02:49:19.901Z"
   },
   {
    "duration": 12,
    "start_time": "2024-10-20T02:49:20.098Z"
   },
   {
    "duration": 15,
    "start_time": "2024-10-20T02:49:20.112Z"
   },
   {
    "duration": 110,
    "start_time": "2024-10-20T02:49:20.128Z"
   },
   {
    "duration": 12,
    "start_time": "2024-10-20T02:49:20.239Z"
   },
   {
    "duration": 4,
    "start_time": "2024-10-20T02:49:20.253Z"
   },
   {
    "duration": 1526,
    "start_time": "2024-10-27T11:28:04.476Z"
   },
   {
    "duration": 3,
    "start_time": "2024-10-27T11:28:06.005Z"
   },
   {
    "duration": 28,
    "start_time": "2024-10-27T11:28:06.010Z"
   },
   {
    "duration": 13,
    "start_time": "2024-10-27T11:28:06.040Z"
   },
   {
    "duration": 480,
    "start_time": "2024-10-27T11:28:06.055Z"
   },
   {
    "duration": 92,
    "start_time": "2024-10-27T11:28:06.537Z"
   },
   {
    "duration": 74,
    "start_time": "2024-10-27T11:28:06.631Z"
   },
   {
    "duration": 74,
    "start_time": "2024-10-27T11:28:06.721Z"
   },
   {
    "duration": 1022,
    "start_time": "2024-10-27T11:28:06.797Z"
   },
   {
    "duration": 1042,
    "start_time": "2024-10-27T11:28:07.821Z"
   },
   {
    "duration": 1032,
    "start_time": "2024-10-27T11:28:08.865Z"
   },
   {
    "duration": 243,
    "start_time": "2024-10-27T11:28:09.899Z"
   },
   {
    "duration": 12,
    "start_time": "2024-10-27T11:28:10.143Z"
   },
   {
    "duration": 17,
    "start_time": "2024-10-27T11:28:10.157Z"
   },
   {
    "duration": 26,
    "start_time": "2024-10-27T11:28:10.176Z"
   },
   {
    "duration": 29,
    "start_time": "2024-10-27T11:28:10.204Z"
   },
   {
    "duration": 6,
    "start_time": "2024-10-27T11:28:10.234Z"
   },
   {
    "duration": 380,
    "start_time": "2024-10-27T11:28:10.241Z"
   },
   {
    "duration": 9,
    "start_time": "2024-10-27T11:28:10.623Z"
   },
   {
    "duration": 114,
    "start_time": "2024-10-27T11:34:38.916Z"
   },
   {
    "duration": 17,
    "start_time": "2024-10-27T11:37:09.936Z"
   },
   {
    "duration": 119,
    "start_time": "2024-10-27T11:49:31.115Z"
   },
   {
    "duration": 68,
    "start_time": "2024-10-27T11:50:01.026Z"
   },
   {
    "duration": 4,
    "start_time": "2024-10-27T11:50:15.866Z"
   },
   {
    "duration": 1388,
    "start_time": "2024-10-27T11:55:59.874Z"
   },
   {
    "duration": 4,
    "start_time": "2024-10-27T11:56:01.264Z"
   },
   {
    "duration": 57,
    "start_time": "2024-10-27T11:56:01.269Z"
   },
   {
    "duration": 8,
    "start_time": "2024-10-27T11:56:01.328Z"
   },
   {
    "duration": 487,
    "start_time": "2024-10-27T11:56:01.338Z"
   },
   {
    "duration": 84,
    "start_time": "2024-10-27T11:56:01.828Z"
   },
   {
    "duration": 68,
    "start_time": "2024-10-27T11:56:01.921Z"
   },
   {
    "duration": 98,
    "start_time": "2024-10-27T11:56:01.991Z"
   },
   {
    "duration": 989,
    "start_time": "2024-10-27T11:56:02.090Z"
   },
   {
    "duration": 1038,
    "start_time": "2024-10-27T11:56:03.080Z"
   },
   {
    "duration": 1005,
    "start_time": "2024-10-27T11:56:04.120Z"
   },
   {
    "duration": 260,
    "start_time": "2024-10-27T11:56:05.127Z"
   },
   {
    "duration": 12,
    "start_time": "2024-10-27T11:56:05.389Z"
   },
   {
    "duration": 32,
    "start_time": "2024-10-27T11:56:05.404Z"
   },
   {
    "duration": 17,
    "start_time": "2024-10-27T11:56:05.438Z"
   },
   {
    "duration": 15,
    "start_time": "2024-10-27T11:56:05.457Z"
   },
   {
    "duration": 36,
    "start_time": "2024-10-27T11:56:05.474Z"
   },
   {
    "duration": 419,
    "start_time": "2024-10-27T11:56:05.512Z"
   },
   {
    "duration": 6,
    "start_time": "2024-10-27T11:56:05.934Z"
   },
   {
    "duration": 102,
    "start_time": "2024-10-27T11:56:06.022Z"
   },
   {
    "duration": 6,
    "start_time": "2024-10-27T11:56:06.127Z"
   },
   {
    "duration": 71,
    "start_time": "2024-10-27T11:56:47.174Z"
   },
   {
    "duration": 81,
    "start_time": "2024-10-27T11:57:05.706Z"
   },
   {
    "duration": 75,
    "start_time": "2024-10-27T11:57:22.114Z"
   },
   {
    "duration": 4,
    "start_time": "2024-10-27T11:58:10.634Z"
   },
   {
    "duration": 4,
    "start_time": "2024-10-27T12:01:30.654Z"
   },
   {
    "duration": 4,
    "start_time": "2024-10-27T12:01:58.774Z"
   },
   {
    "duration": 41,
    "start_time": "2024-10-27T12:24:33.921Z"
   },
   {
    "duration": 32,
    "start_time": "2024-10-27T12:25:11.539Z"
   },
   {
    "duration": 38,
    "start_time": "2024-10-27T12:25:45.246Z"
   },
   {
    "duration": 16,
    "start_time": "2024-10-27T12:27:41.412Z"
   },
   {
    "duration": 4,
    "start_time": "2024-10-27T12:31:25.684Z"
   },
   {
    "duration": 4,
    "start_time": "2024-10-27T12:32:01.084Z"
   },
   {
    "duration": 23,
    "start_time": "2024-10-27T12:33:11.992Z"
   },
   {
    "duration": 5,
    "start_time": "2024-10-27T12:36:51.231Z"
   },
   {
    "duration": 2966,
    "start_time": "2024-10-27T12:38:41.195Z"
   },
   {
    "duration": 1433,
    "start_time": "2024-10-27T12:44:46.758Z"
   },
   {
    "duration": 3,
    "start_time": "2024-10-27T12:44:48.194Z"
   },
   {
    "duration": 7,
    "start_time": "2024-10-27T12:44:48.198Z"
   },
   {
    "duration": 4,
    "start_time": "2024-10-27T12:44:48.207Z"
   },
   {
    "duration": 9,
    "start_time": "2024-10-27T12:44:48.213Z"
   },
   {
    "duration": 11,
    "start_time": "2024-10-27T12:44:48.224Z"
   },
   {
    "duration": 443,
    "start_time": "2024-10-27T12:44:48.237Z"
   },
   {
    "duration": 86,
    "start_time": "2024-10-27T12:44:48.682Z"
   },
   {
    "duration": 80,
    "start_time": "2024-10-27T12:44:48.770Z"
   },
   {
    "duration": 89,
    "start_time": "2024-10-27T12:44:48.853Z"
   },
   {
    "duration": 972,
    "start_time": "2024-10-27T12:44:48.944Z"
   },
   {
    "duration": 995,
    "start_time": "2024-10-27T12:44:49.918Z"
   },
   {
    "duration": 1002,
    "start_time": "2024-10-27T12:44:50.915Z"
   },
   {
    "duration": 270,
    "start_time": "2024-10-27T12:44:51.919Z"
   },
   {
    "duration": 11,
    "start_time": "2024-10-27T12:44:52.191Z"
   },
   {
    "duration": 70,
    "start_time": "2024-10-27T12:44:52.204Z"
   },
   {
    "duration": 40,
    "start_time": "2024-10-27T12:44:52.276Z"
   },
   {
    "duration": 35,
    "start_time": "2024-10-27T12:44:52.318Z"
   },
   {
    "duration": 21,
    "start_time": "2024-10-27T12:44:52.355Z"
   },
   {
    "duration": 449,
    "start_time": "2024-10-27T12:44:52.378Z"
   },
   {
    "duration": 6,
    "start_time": "2024-10-27T12:44:52.829Z"
   },
   {
    "duration": 110,
    "start_time": "2024-10-27T12:44:52.922Z"
   },
   {
    "duration": 6,
    "start_time": "2024-10-27T12:44:53.123Z"
   },
   {
    "duration": 88,
    "start_time": "2024-10-27T12:44:53.221Z"
   },
   {
    "duration": 11,
    "start_time": "2024-10-27T12:44:53.311Z"
   },
   {
    "duration": 54,
    "start_time": "2024-10-27T12:44:53.324Z"
   },
   {
    "duration": 32,
    "start_time": "2024-10-27T12:44:53.380Z"
   },
   {
    "duration": 38,
    "start_time": "2024-10-27T12:44:53.420Z"
   },
   {
    "duration": 14,
    "start_time": "2024-10-27T12:44:53.460Z"
   },
   {
    "duration": 19,
    "start_time": "2024-10-27T12:44:53.476Z"
   },
   {
    "duration": 3088,
    "start_time": "2024-10-27T12:44:53.521Z"
   },
   {
    "duration": 1393,
    "start_time": "2024-10-28T12:38:45.809Z"
   },
   {
    "duration": 4,
    "start_time": "2024-10-28T12:38:47.204Z"
   },
   {
    "duration": 13,
    "start_time": "2024-10-28T12:38:47.209Z"
   },
   {
    "duration": 5,
    "start_time": "2024-10-28T12:38:47.223Z"
   },
   {
    "duration": 4,
    "start_time": "2024-10-28T12:38:47.230Z"
   },
   {
    "duration": 6,
    "start_time": "2024-10-28T12:38:47.235Z"
   },
   {
    "duration": 851,
    "start_time": "2024-10-28T12:38:47.243Z"
   },
   {
    "duration": 66,
    "start_time": "2024-10-28T12:38:48.096Z"
   },
   {
    "duration": 57,
    "start_time": "2024-10-28T12:38:48.163Z"
   },
   {
    "duration": 79,
    "start_time": "2024-10-28T12:38:48.222Z"
   },
   {
    "duration": 846,
    "start_time": "2024-10-28T12:38:48.303Z"
   },
   {
    "duration": 852,
    "start_time": "2024-10-28T12:38:49.151Z"
   },
   {
    "duration": 810,
    "start_time": "2024-10-28T12:38:50.004Z"
   },
   {
    "duration": 185,
    "start_time": "2024-10-28T12:38:50.816Z"
   },
   {
    "duration": 10,
    "start_time": "2024-10-28T12:38:51.002Z"
   },
   {
    "duration": 25,
    "start_time": "2024-10-28T12:38:51.014Z"
   },
   {
    "duration": 28,
    "start_time": "2024-10-28T12:38:51.040Z"
   },
   {
    "duration": 13,
    "start_time": "2024-10-28T12:38:51.070Z"
   },
   {
    "duration": 6,
    "start_time": "2024-10-28T12:38:51.084Z"
   },
   {
    "duration": 270,
    "start_time": "2024-10-28T12:38:51.091Z"
   },
   {
    "duration": 95,
    "start_time": "2024-10-28T12:38:51.363Z"
   },
   {
    "duration": 104,
    "start_time": "2024-10-28T12:38:51.462Z"
   },
   {
    "duration": 103,
    "start_time": "2024-10-28T12:38:51.568Z"
   },
   {
    "duration": 93,
    "start_time": "2024-10-28T12:38:51.672Z"
   },
   {
    "duration": 10,
    "start_time": "2024-10-28T12:38:51.766Z"
   },
   {
    "duration": 36,
    "start_time": "2024-10-28T12:38:51.777Z"
   },
   {
    "duration": 24,
    "start_time": "2024-10-28T12:38:51.814Z"
   },
   {
    "duration": 43,
    "start_time": "2024-10-28T12:38:51.839Z"
   },
   {
    "duration": 10,
    "start_time": "2024-10-28T12:38:51.884Z"
   },
   {
    "duration": 13,
    "start_time": "2024-10-28T12:38:51.895Z"
   },
   {
    "duration": 2155,
    "start_time": "2024-10-28T12:38:51.910Z"
   },
   {
    "duration": 1242,
    "start_time": "2024-10-28T12:48:51.456Z"
   },
   {
    "duration": 3,
    "start_time": "2024-10-28T12:48:52.700Z"
   },
   {
    "duration": 7,
    "start_time": "2024-10-28T12:48:52.704Z"
   },
   {
    "duration": 9,
    "start_time": "2024-10-28T12:48:52.712Z"
   },
   {
    "duration": 4,
    "start_time": "2024-10-28T12:48:52.723Z"
   },
   {
    "duration": 5,
    "start_time": "2024-10-28T12:48:52.728Z"
   },
   {
    "duration": 355,
    "start_time": "2024-10-28T12:48:52.734Z"
   },
   {
    "duration": 67,
    "start_time": "2024-10-28T12:48:53.091Z"
   },
   {
    "duration": 55,
    "start_time": "2024-10-28T12:48:53.159Z"
   },
   {
    "duration": 61,
    "start_time": "2024-10-28T12:48:53.215Z"
   },
   {
    "duration": 847,
    "start_time": "2024-10-28T12:48:53.278Z"
   },
   {
    "duration": 804,
    "start_time": "2024-10-28T12:48:54.126Z"
   },
   {
    "duration": 813,
    "start_time": "2024-10-28T12:48:54.932Z"
   },
   {
    "duration": 22,
    "start_time": "2024-10-28T12:48:55.748Z"
   },
   {
    "duration": 16,
    "start_time": "2024-10-28T12:48:55.771Z"
   },
   {
    "duration": 16,
    "start_time": "2024-10-28T12:48:55.788Z"
   },
   {
    "duration": 361,
    "start_time": "2024-10-28T12:48:55.805Z"
   },
   {
    "duration": 4,
    "start_time": "2024-10-28T12:48:56.168Z"
   },
   {
    "duration": 371,
    "start_time": "2024-10-28T12:48:56.174Z"
   },
   {
    "duration": 0,
    "start_time": "2024-10-28T12:48:56.557Z"
   },
   {
    "duration": 1,
    "start_time": "2024-10-28T12:48:56.557Z"
   },
   {
    "duration": 0,
    "start_time": "2024-10-28T12:48:56.559Z"
   },
   {
    "duration": 0,
    "start_time": "2024-10-28T12:48:56.559Z"
   },
   {
    "duration": 1,
    "start_time": "2024-10-28T12:48:56.560Z"
   },
   {
    "duration": 0,
    "start_time": "2024-10-28T12:48:56.561Z"
   },
   {
    "duration": 0,
    "start_time": "2024-10-28T12:48:56.562Z"
   },
   {
    "duration": 0,
    "start_time": "2024-10-28T12:48:56.563Z"
   },
   {
    "duration": 0,
    "start_time": "2024-10-28T12:48:56.564Z"
   },
   {
    "duration": 15,
    "start_time": "2024-10-28T12:55:25.605Z"
   },
   {
    "duration": 3,
    "start_time": "2024-10-28T12:55:33.313Z"
   },
   {
    "duration": 3,
    "start_time": "2024-10-28T12:58:20.125Z"
   },
   {
    "duration": 3,
    "start_time": "2024-10-28T12:58:21.861Z"
   },
   {
    "duration": 30,
    "start_time": "2024-10-28T12:58:26.657Z"
   },
   {
    "duration": 31,
    "start_time": "2024-10-28T12:58:33.525Z"
   },
   {
    "duration": 31,
    "start_time": "2024-10-28T12:58:39.305Z"
   },
   {
    "duration": 12,
    "start_time": "2024-10-28T12:58:57.885Z"
   },
   {
    "duration": 15,
    "start_time": "2024-10-28T12:59:21.488Z"
   },
   {
    "duration": 2156,
    "start_time": "2024-10-28T12:59:40.541Z"
   },
   {
    "duration": 1254,
    "start_time": "2024-10-28T13:02:44.842Z"
   },
   {
    "duration": 5,
    "start_time": "2024-10-28T13:02:46.097Z"
   },
   {
    "duration": 97,
    "start_time": "2024-10-28T13:02:46.103Z"
   },
   {
    "duration": 6,
    "start_time": "2024-10-28T13:02:46.202Z"
   },
   {
    "duration": 7,
    "start_time": "2024-10-28T13:02:46.210Z"
   },
   {
    "duration": 12,
    "start_time": "2024-10-28T13:02:46.219Z"
   },
   {
    "duration": 358,
    "start_time": "2024-10-28T13:02:46.232Z"
   },
   {
    "duration": 65,
    "start_time": "2024-10-28T13:02:46.592Z"
   },
   {
    "duration": 54,
    "start_time": "2024-10-28T13:02:46.659Z"
   },
   {
    "duration": 75,
    "start_time": "2024-10-28T13:02:46.715Z"
   },
   {
    "duration": 790,
    "start_time": "2024-10-28T13:02:46.791Z"
   },
   {
    "duration": 826,
    "start_time": "2024-10-28T13:02:47.583Z"
   },
   {
    "duration": 797,
    "start_time": "2024-10-28T13:02:48.411Z"
   },
   {
    "duration": 15,
    "start_time": "2024-10-28T13:02:49.211Z"
   },
   {
    "duration": 13,
    "start_time": "2024-10-28T13:02:49.227Z"
   },
   {
    "duration": 27,
    "start_time": "2024-10-28T13:02:49.241Z"
   },
   {
    "duration": 298,
    "start_time": "2024-10-28T13:02:49.269Z"
   },
   {
    "duration": 93,
    "start_time": "2024-10-28T13:02:49.569Z"
   },
   {
    "duration": 110,
    "start_time": "2024-10-28T13:02:49.664Z"
   },
   {
    "duration": 82,
    "start_time": "2024-10-28T13:02:49.776Z"
   },
   {
    "duration": 3,
    "start_time": "2024-10-28T13:02:49.860Z"
   },
   {
    "duration": 94,
    "start_time": "2024-10-28T13:02:49.867Z"
   },
   {
    "duration": 39,
    "start_time": "2024-10-28T13:02:49.962Z"
   },
   {
    "duration": 30,
    "start_time": "2024-10-28T13:02:50.003Z"
   },
   {
    "duration": 43,
    "start_time": "2024-10-28T13:02:50.034Z"
   },
   {
    "duration": 14,
    "start_time": "2024-10-28T13:02:50.078Z"
   },
   {
    "duration": 14,
    "start_time": "2024-10-28T13:02:50.093Z"
   },
   {
    "duration": 2270,
    "start_time": "2024-10-28T13:02:50.108Z"
   }
  ],
  "kernelspec": {
   "display_name": "Python 3 (ipykernel)",
   "language": "python",
   "name": "python3"
  },
  "language_info": {
   "codemirror_mode": {
    "name": "ipython",
    "version": 3
   },
   "file_extension": ".py",
   "mimetype": "text/x-python",
   "name": "python",
   "nbconvert_exporter": "python",
   "pygments_lexer": "ipython3",
   "version": "3.11.5"
  },
  "toc": {
   "base_numbering": 1,
   "nav_menu": {},
   "number_sections": true,
   "sideBar": true,
   "skip_h1_title": true,
   "title_cell": "Table of Contents",
   "title_sidebar": "Contents",
   "toc_cell": false,
   "toc_position": {},
   "toc_section_display": true,
   "toc_window_display": false
  }
 },
 "nbformat": 4,
 "nbformat_minor": 2
}
